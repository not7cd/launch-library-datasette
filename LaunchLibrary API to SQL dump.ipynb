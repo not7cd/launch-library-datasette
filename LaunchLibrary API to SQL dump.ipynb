{
 "cells": [
  {
   "cell_type": "markdown",
   "metadata": {},
   "source": [
    "# SQL Dump\n",
    "\n",
    "Here i test `sqlite_utils` which is part of datasette ecosystem."
   ]
  },
  {
   "cell_type": "code",
   "execution_count": 176,
   "metadata": {},
   "outputs": [],
   "source": [
    "import requests\n",
    "from copy import copy\n",
    "from glom import glom, flatten\n",
    "from dateutil.parser import parse as parse_dt\n",
    "from sqlite_utils import Database\n",
    "\n",
    "from pprint import pprint"
   ]
  },
  {
   "cell_type": "code",
   "execution_count": 3,
   "metadata": {},
   "outputs": [],
   "source": [
    "BASE_URL = \"https://launchlibrary.net/1.4.1/\""
   ]
  },
  {
   "cell_type": "code",
   "execution_count": 70,
   "metadata": {},
   "outputs": [],
   "source": [
    "pads_raw = requests.get(BASE_URL + \"pad/?limit=1000&mode=verbose\").json()\n",
    "locations_raw = requests.get(BASE_URL + \"location/?limit=1000&mode=verbose\").json()"
   ]
  },
  {
   "cell_type": "code",
   "execution_count": 71,
   "metadata": {},
   "outputs": [],
   "source": [
    "agencies_raw = requests.get(BASE_URL + \"agency?limit=1000&mode=verbose\").json()\n",
    "agency_types_raw = requests.get(BASE_URL + \"agencytype?limit=1000&mode=verbose\").json()"
   ]
  },
  {
   "cell_type": "code",
   "execution_count": 99,
   "metadata": {},
   "outputs": [],
   "source": [
    "rockets_raw = requests.get(BASE_URL + \"rocket?limit=1000&mode=verbose\").json()\n",
    "families_raw = requests.get(BASE_URL + \"rocketfamily?limit=1000&mode=verbose\").json()"
   ]
  },
  {
   "cell_type": "code",
   "execution_count": 144,
   "metadata": {},
   "outputs": [],
   "source": [
    "launches_raw = requests.get(BASE_URL + \"launch?limit=3000&mode=verbose\").json()"
   ]
  },
  {
   "cell_type": "code",
   "execution_count": 361,
   "metadata": {},
   "outputs": [
    {
     "ename": "JSONDecodeError",
     "evalue": "Unterminated string starting at: line 1 column 792528 (char 792527)",
     "output_type": "error",
     "traceback": [
      "\u001b[0;31m---------------------------------------------------------------------------\u001b[0m",
      "\u001b[0;31mJSONDecodeError\u001b[0m                           Traceback (most recent call last)",
      "\u001b[0;32m<ipython-input-361-acf1b685ec9f>\u001b[0m in \u001b[0;36m<module>\u001b[0;34m\u001b[0m\n\u001b[0;32m----> 1\u001b[0;31m \u001b[0mmissions_raw\u001b[0m \u001b[0;34m=\u001b[0m \u001b[0mrequests\u001b[0m\u001b[0;34m.\u001b[0m\u001b[0mget\u001b[0m\u001b[0;34m(\u001b[0m\u001b[0mBASE_URL\u001b[0m \u001b[0;34m+\u001b[0m \u001b[0;34m\"mission?limit=2000&mode=verbose\"\u001b[0m\u001b[0;34m)\u001b[0m\u001b[0;34m.\u001b[0m\u001b[0mjson\u001b[0m\u001b[0;34m(\u001b[0m\u001b[0;34m)\u001b[0m\u001b[0;34m\u001b[0m\u001b[0;34m\u001b[0m\u001b[0m\n\u001b[0m",
      "\u001b[0;32m~/.cache/pypoetry/virtualenvs/launch-library-datasette-UeoWYeqM-py3.8/lib/python3.8/site-packages/requests/models.py\u001b[0m in \u001b[0;36mjson\u001b[0;34m(self, **kwargs)\u001b[0m\n\u001b[1;32m    887\u001b[0m             \u001b[0;32mif\u001b[0m \u001b[0mencoding\u001b[0m \u001b[0;32mis\u001b[0m \u001b[0;32mnot\u001b[0m \u001b[0;32mNone\u001b[0m\u001b[0;34m:\u001b[0m\u001b[0;34m\u001b[0m\u001b[0;34m\u001b[0m\u001b[0m\n\u001b[1;32m    888\u001b[0m                 \u001b[0;32mtry\u001b[0m\u001b[0;34m:\u001b[0m\u001b[0;34m\u001b[0m\u001b[0;34m\u001b[0m\u001b[0m\n\u001b[0;32m--> 889\u001b[0;31m                     return complexjson.loads(\n\u001b[0m\u001b[1;32m    890\u001b[0m                         \u001b[0mself\u001b[0m\u001b[0;34m.\u001b[0m\u001b[0mcontent\u001b[0m\u001b[0;34m.\u001b[0m\u001b[0mdecode\u001b[0m\u001b[0;34m(\u001b[0m\u001b[0mencoding\u001b[0m\u001b[0;34m)\u001b[0m\u001b[0;34m,\u001b[0m \u001b[0;34m**\u001b[0m\u001b[0mkwargs\u001b[0m\u001b[0;34m\u001b[0m\u001b[0;34m\u001b[0m\u001b[0m\n\u001b[1;32m    891\u001b[0m                     )\n",
      "\u001b[0;32m~/.pyenv/versions/3.8.4/lib/python3.8/json/__init__.py\u001b[0m in \u001b[0;36mloads\u001b[0;34m(s, cls, object_hook, parse_float, parse_int, parse_constant, object_pairs_hook, **kw)\u001b[0m\n\u001b[1;32m    355\u001b[0m             \u001b[0mparse_int\u001b[0m \u001b[0;32mis\u001b[0m \u001b[0;32mNone\u001b[0m \u001b[0;32mand\u001b[0m \u001b[0mparse_float\u001b[0m \u001b[0;32mis\u001b[0m \u001b[0;32mNone\u001b[0m \u001b[0;32mand\u001b[0m\u001b[0;34m\u001b[0m\u001b[0;34m\u001b[0m\u001b[0m\n\u001b[1;32m    356\u001b[0m             parse_constant is None and object_pairs_hook is None and not kw):\n\u001b[0;32m--> 357\u001b[0;31m         \u001b[0;32mreturn\u001b[0m \u001b[0m_default_decoder\u001b[0m\u001b[0;34m.\u001b[0m\u001b[0mdecode\u001b[0m\u001b[0;34m(\u001b[0m\u001b[0ms\u001b[0m\u001b[0;34m)\u001b[0m\u001b[0;34m\u001b[0m\u001b[0;34m\u001b[0m\u001b[0m\n\u001b[0m\u001b[1;32m    358\u001b[0m     \u001b[0;32mif\u001b[0m \u001b[0mcls\u001b[0m \u001b[0;32mis\u001b[0m \u001b[0;32mNone\u001b[0m\u001b[0;34m:\u001b[0m\u001b[0;34m\u001b[0m\u001b[0;34m\u001b[0m\u001b[0m\n\u001b[1;32m    359\u001b[0m         \u001b[0mcls\u001b[0m \u001b[0;34m=\u001b[0m \u001b[0mJSONDecoder\u001b[0m\u001b[0;34m\u001b[0m\u001b[0;34m\u001b[0m\u001b[0m\n",
      "\u001b[0;32m~/.pyenv/versions/3.8.4/lib/python3.8/json/decoder.py\u001b[0m in \u001b[0;36mdecode\u001b[0;34m(self, s, _w)\u001b[0m\n\u001b[1;32m    335\u001b[0m \u001b[0;34m\u001b[0m\u001b[0m\n\u001b[1;32m    336\u001b[0m         \"\"\"\n\u001b[0;32m--> 337\u001b[0;31m         \u001b[0mobj\u001b[0m\u001b[0;34m,\u001b[0m \u001b[0mend\u001b[0m \u001b[0;34m=\u001b[0m \u001b[0mself\u001b[0m\u001b[0;34m.\u001b[0m\u001b[0mraw_decode\u001b[0m\u001b[0;34m(\u001b[0m\u001b[0ms\u001b[0m\u001b[0;34m,\u001b[0m \u001b[0midx\u001b[0m\u001b[0;34m=\u001b[0m\u001b[0m_w\u001b[0m\u001b[0;34m(\u001b[0m\u001b[0ms\u001b[0m\u001b[0;34m,\u001b[0m \u001b[0;36m0\u001b[0m\u001b[0;34m)\u001b[0m\u001b[0;34m.\u001b[0m\u001b[0mend\u001b[0m\u001b[0;34m(\u001b[0m\u001b[0;34m)\u001b[0m\u001b[0;34m)\u001b[0m\u001b[0;34m\u001b[0m\u001b[0;34m\u001b[0m\u001b[0m\n\u001b[0m\u001b[1;32m    338\u001b[0m         \u001b[0mend\u001b[0m \u001b[0;34m=\u001b[0m \u001b[0m_w\u001b[0m\u001b[0;34m(\u001b[0m\u001b[0ms\u001b[0m\u001b[0;34m,\u001b[0m \u001b[0mend\u001b[0m\u001b[0;34m)\u001b[0m\u001b[0;34m.\u001b[0m\u001b[0mend\u001b[0m\u001b[0;34m(\u001b[0m\u001b[0;34m)\u001b[0m\u001b[0;34m\u001b[0m\u001b[0;34m\u001b[0m\u001b[0m\n\u001b[1;32m    339\u001b[0m         \u001b[0;32mif\u001b[0m \u001b[0mend\u001b[0m \u001b[0;34m!=\u001b[0m \u001b[0mlen\u001b[0m\u001b[0;34m(\u001b[0m\u001b[0ms\u001b[0m\u001b[0;34m)\u001b[0m\u001b[0;34m:\u001b[0m\u001b[0;34m\u001b[0m\u001b[0;34m\u001b[0m\u001b[0m\n",
      "\u001b[0;32m~/.pyenv/versions/3.8.4/lib/python3.8/json/decoder.py\u001b[0m in \u001b[0;36mraw_decode\u001b[0;34m(self, s, idx)\u001b[0m\n\u001b[1;32m    351\u001b[0m         \"\"\"\n\u001b[1;32m    352\u001b[0m         \u001b[0;32mtry\u001b[0m\u001b[0;34m:\u001b[0m\u001b[0;34m\u001b[0m\u001b[0;34m\u001b[0m\u001b[0m\n\u001b[0;32m--> 353\u001b[0;31m             \u001b[0mobj\u001b[0m\u001b[0;34m,\u001b[0m \u001b[0mend\u001b[0m \u001b[0;34m=\u001b[0m \u001b[0mself\u001b[0m\u001b[0;34m.\u001b[0m\u001b[0mscan_once\u001b[0m\u001b[0;34m(\u001b[0m\u001b[0ms\u001b[0m\u001b[0;34m,\u001b[0m \u001b[0midx\u001b[0m\u001b[0;34m)\u001b[0m\u001b[0;34m\u001b[0m\u001b[0;34m\u001b[0m\u001b[0m\n\u001b[0m\u001b[1;32m    354\u001b[0m         \u001b[0;32mexcept\u001b[0m \u001b[0mStopIteration\u001b[0m \u001b[0;32mas\u001b[0m \u001b[0merr\u001b[0m\u001b[0;34m:\u001b[0m\u001b[0;34m\u001b[0m\u001b[0;34m\u001b[0m\u001b[0m\n\u001b[1;32m    355\u001b[0m             \u001b[0;32mraise\u001b[0m \u001b[0mJSONDecodeError\u001b[0m\u001b[0;34m(\u001b[0m\u001b[0;34m\"Expecting value\"\u001b[0m\u001b[0;34m,\u001b[0m \u001b[0ms\u001b[0m\u001b[0;34m,\u001b[0m \u001b[0merr\u001b[0m\u001b[0;34m.\u001b[0m\u001b[0mvalue\u001b[0m\u001b[0;34m)\u001b[0m \u001b[0;32mfrom\u001b[0m \u001b[0;32mNone\u001b[0m\u001b[0;34m\u001b[0m\u001b[0;34m\u001b[0m\u001b[0m\n",
      "\u001b[0;31mJSONDecodeError\u001b[0m: Unterminated string starting at: line 1 column 792528 (char 792527)"
     ]
    }
   ],
   "source": [
    "missions_raw = requests.get(BASE_URL + \"mission?limit=2000&mode=verbose\").json()"
   ]
  },
  {
   "cell_type": "markdown",
   "metadata": {},
   "source": [
    "After some time I tried to refresh this request, but external api started to cut my requests and send incomplete JSONs"
   ]
  },
  {
   "cell_type": "code",
   "execution_count": 266,
   "metadata": {},
   "outputs": [
    {
     "data": {
      "text/plain": [
       "{'types': [{'id': 0,\n",
       "   'name': 'Satellite',\n",
       "   'description': '',\n",
       "   'changed': '2017-02-21 00:00:00'},\n",
       "  {'id': 1,\n",
       "   'name': 'Cubesat',\n",
       "   'description': '',\n",
       "   'changed': '2017-02-21 00:00:00'},\n",
       "  {'id': 2,\n",
       "   'name': 'Supplies',\n",
       "   'description': '',\n",
       "   'changed': '2017-02-21 00:00:00'},\n",
       "  {'id': 3,\n",
       "   'name': 'Crew',\n",
       "   'description': '',\n",
       "   'changed': '2017-02-21 00:00:00'},\n",
       "  {'id': 4,\n",
       "   'name': 'Probe',\n",
       "   'description': '',\n",
       "   'changed': '2017-02-21 00:00:00'},\n",
       "  {'id': 5,\n",
       "   'name': 'Rover',\n",
       "   'description': '',\n",
       "   'changed': '2017-02-21 00:00:00'},\n",
       "  {'id': 6,\n",
       "   'name': 'Lander',\n",
       "   'description': '',\n",
       "   'changed': '2017-02-21 00:00:00'},\n",
       "  {'id': 7,\n",
       "   'name': 'Habitat',\n",
       "   'description': '',\n",
       "   'changed': '2017-02-21 00:00:00'},\n",
       "  {'id': 8,\n",
       "   'name': 'Telescope',\n",
       "   'description': '',\n",
       "   'changed': '2017-02-21 00:00:00'},\n",
       "  {'id': 9,\n",
       "   'name': 'Other',\n",
       "   'description': '',\n",
       "   'changed': '2017-02-21 00:00:00'}],\n",
       " 'total': 10,\n",
       " 'count': 10,\n",
       " 'offset': 0}"
      ]
     },
     "execution_count": 266,
     "metadata": {},
     "output_type": "execute_result"
    }
   ],
   "source": [
    "launch_statuses_raw = requests.get(BASE_URL + \"launchstatus?limit=2000&mode=verbose\").json()\n",
    "agency_types_raw = requests.get(BASE_URL + \"agencytype?limit=1000&mode=verbose\").json()\n",
    "mission_types_raw = requests.get(BASE_URL + \"missiontype?limit=2000&mode=verbose\").json()\n",
    "payload_types_raw = requests.get(BASE_URL + \"payloadtype?limit=2000&mode=verbose\").json()\n",
    "\n",
    "payload_types_raw[0]"
   ]
  },
  {
   "cell_type": "code",
   "execution_count": null,
   "metadata": {},
   "outputs": [],
   "source": [
    "for raw in []"
   ]
  },
  {
   "cell_type": "code",
   "execution_count": 348,
   "metadata": {},
   "outputs": [],
   "source": [
    "db = Database(\"launchlibrary.db\")\n",
    "\n",
    "pads = db[\"pads\"]\n",
    "locations = db[\"locations\"]\n",
    "\n",
    "agencies = db[\"agencies\"]\n",
    "\n",
    "rockets = db[\"rockets\"]\n",
    "families = db[\"rocketfamilies\"]\n",
    "\n",
    "missions = db[\"missions\"]\n",
    "payloads = db[\"payloads\"]\n",
    "\n",
    "launches = db[\"launches\"]"
   ]
  },
  {
   "cell_type": "code",
   "execution_count": 349,
   "metadata": {},
   "outputs": [
    {
     "data": {
      "text/plain": [
       "{0: 'SATELLITE',\n",
       " 1: 'CUBESAT',\n",
       " 2: 'SUPPLIES',\n",
       " 3: 'CREW',\n",
       " 4: 'PROBE',\n",
       " 5: 'ROVER',\n",
       " 6: 'LANDER',\n",
       " 7: 'HABITAT',\n",
       " 8: 'TELESCOPE',\n",
       " 9: 'OTHER'}"
      ]
     },
     "execution_count": 349,
     "metadata": {},
     "output_type": "execute_result"
    }
   ],
   "source": [
    "agency_types = {t[\"id\"]: t[\"name\"].upper() for t in agency_types_raw[\"types\"]}\n",
    "status_types = {t[\"id\"]: t[\"name\"].upper() for t in launch_statuses_raw[\"types\"]}\n",
    "mission_types = {t[\"id\"]: t[\"name\"].upper() for t in mission_types_raw[\"types\"]}\n",
    "payload_types = {t[\"id\"]: t[\"name\"].upper() for t in payload_types_raw[\"types\"]}\n",
    "payload_types"
   ]
  },
  {
   "cell_type": "code",
   "execution_count": 350,
   "metadata": {},
   "outputs": [],
   "source": [
    "def ids_to_m2m(cur, ids, lookup, m2m_table):\n",
    "    for _id in ids:\n",
    "        cur.m2m(lookup.name, lookup={\"id\": _id}, m2m_table=m2m_table)"
   ]
  },
  {
   "cell_type": "code",
   "execution_count": 351,
   "metadata": {},
   "outputs": [
    {
     "name": "stdout",
     "output_type": "stream",
     "text": [
      "dict_keys(['id', 'name', 'countryCode', 'abbrev', 'type', 'infoURL', 'wikiURL', 'infoURLs', 'islsp', 'changed'])\n"
     ]
    },
    {
     "data": {
      "text/plain": [
       "<Table agencies (id, name, countryCode, abbrev, type, islsp, infoURL, wikiURL)>"
      ]
     },
     "execution_count": 351,
     "metadata": {},
     "output_type": "execute_result"
    }
   ],
   "source": [
    "print(agencies_raw[\"agencies\"][0].keys())\n",
    "_agencies = glom(agencies_raw[\"agencies\"],\n",
    "    [{\n",
    "        \"id\":  \"id\",\n",
    "        \"name\":\"name\",\n",
    "        \"countryCode\": \"countryCode\",\n",
    "        'abbrev': \"abbrev\", \n",
    "        'type': (\"type\", lambda t: agency_types[t]),\n",
    "        'islsp': \"islsp\", \n",
    "#         'changed': (\"changed\", parse_dt),\n",
    "        'infoURL': \"infoURL\", \n",
    "        'wikiURL': \"wikiURL\", \n",
    "        \n",
    "    }]\n",
    ")\n",
    "agencies.upsert_all(_agencies, pk=\"id\")"
   ]
  },
  {
   "cell_type": "code",
   "execution_count": 352,
   "metadata": {},
   "outputs": [
    {
     "name": "stdout",
     "output_type": "stream",
     "text": [
      "dict_keys(['id', 'name', 'countrycode', 'infoURL', 'wikiURL', 'infoURLs', 'changed'])\n"
     ]
    },
    {
     "data": {
      "text/plain": [
       "<Table locations (id, name, infoURL, wikiURL)>"
      ]
     },
     "execution_count": 352,
     "metadata": {},
     "output_type": "execute_result"
    }
   ],
   "source": [
    "print(locations_raw[\"locations\"][0].keys())\n",
    "_locations = glom(locations_raw[\"locations\"],\n",
    "    [{\n",
    "        \"id\":  \"id\",\n",
    "        \"name\":\"name\",\n",
    "#         'changed': (\"changed\", parse_dt),\n",
    "        'infoURL': \"infoURL\", \n",
    "        'wikiURL': \"wikiURL\", \n",
    "        \n",
    "    }]\n",
    ")\n",
    "\n",
    "locations.upsert_all(_locations, pk=\"id\")"
   ]
  },
  {
   "cell_type": "code",
   "execution_count": null,
   "metadata": {},
   "outputs": [],
   "source": [
    "print(pads_raw[\"pads\"][0].keys())\n",
    "# droping agencies (its many to many relation), anf info URLs\n",
    "_pads = copy(pads_raw[\"pads\"])\n",
    "_pads = glom(_pads,\n",
    "    [{\n",
    "        \"id\":  \"id\",\n",
    "        \"name\":\"name\",\n",
    "        \"padType\": \"padType\",\n",
    "        'latitude': \"latitude\", \n",
    "        'longitude': \"longitude\", \n",
    "        'retired': \"retired\", \n",
    "        'locationId': \"locationid\", \n",
    "        'agencies': 'agencies',\n",
    "#         'changed': (\"changed\", parse_dt),\n",
    "        'infoURL': \"infoURL\", \n",
    "        'wikiURL': \"wikiURL\", \n",
    "        \n",
    "    }]\n",
    ")\n",
    "# pads.upsert_all(_pads, pk=\"id\",\n",
    "#     foreign_keys=[\n",
    "#     (\"locationId\", locations.name, \"id\")\n",
    "# ])\n",
    "\n",
    "for r in _pads:\n",
    "    a_ids = glom(r.pop(\"agencies\"), [\"id\"], default=[])\n",
    "    cur = pads.upsert(r, pk=\"id\", foreign_keys=[(\"locationId\", locations.name, \"id\")])\n",
    "    if a_ids is not None:\n",
    "        ids_to_m2m(cur, a_ids, agencies, \"pad_agency\")"
   ]
  },
  {
   "cell_type": "code",
   "execution_count": null,
   "metadata": {},
   "outputs": [],
   "source": [
    "print(families_raw[\"RocketFamilies\"][0].keys())\n",
    "_families = copy(families_raw[\"RocketFamilies\"])\n",
    "_families = glom(_families,\n",
    "    [{\n",
    "        \"id\":  \"id\",\n",
    "        \"name\":\"name\",\n",
    "        \"agencies\": \"agencies\", #TODO: m2m\n",
    "#         'changed': (\"changed\", parse_dt),\n",
    "        \n",
    "    }]\n",
    ")\n",
    "# _families[0]\n",
    "# families.upsert_all(_families, pk=\"id\",\n",
    "# )\n",
    "for r in _families:\n",
    "    a_ids = glom(r.pop(\"agencies\"), [\"id\"], default=[])\n",
    "    cur = families.upsert(r, pk=\"id\")\n",
    "    if a_ids is not None:\n",
    "        ids_to_m2m(cur, a_ids, agencies, \"rocketfamily_agency\")"
   ]
  },
  {
   "cell_type": "code",
   "execution_count": 355,
   "metadata": {},
   "outputs": [
    {
     "name": "stdout",
     "output_type": "stream",
     "text": [
      "dict_keys(['id', 'name', 'configuration', 'defaultPads', 'family', 'infoURL', 'wikiURL', 'infoURLs', 'imageSizes', 'imageURL', 'changed'])\n",
      "{'id': 1, 'name': 'Falcon 9 v1.1', 'configuration': '9 v1.1', 'defaultPads': '84,100', 'familyId': 13, 'infoURL': None, 'wikiURL': 'http://en.wikipedia.org/wiki/Falcon_9', 'imageURL': 'https://launchlibrary1.nyc3.digitaloceanspaces.com/RocketImages/Falcon9v1.1.jpg_1280.jpg'}\n"
     ]
    }
   ],
   "source": [
    "print(rockets_raw[\"rockets\"][0].keys())\n",
    "_rockets = glom(rockets_raw[\"rockets\"],\n",
    "    [{\n",
    "        \"id\":  \"id\",\n",
    "        \"name\":\"name\",\n",
    "        \"configuration\": \"configuration\",\n",
    "        'defaultPads': \"defaultPads\", # TODO m2m\n",
    "        'familyId': \"family.id\", \n",
    "#         'changed': (\"changed\", parse_dt),\n",
    "        'infoURL': \"infoURL\", \n",
    "        'wikiURL': \"wikiURL\", \n",
    "        'imageURL': \"imageURL\",\n",
    "    }]\n",
    ")\n",
    "print(_rockets[0])\n",
    "for r in _rockets:\n",
    "    default_pads = r.pop(\"defaultPads\")\n",
    "    \n",
    "    cur = rockets.upsert(r, pk=\"id\",\n",
    "        foreign_keys=[\n",
    "        (\"familyId\", families.name, \"id\")\n",
    "    ])\n",
    "    \n",
    "    # add m2m relation between pads and rockets\n",
    "    if default_pads is not None:\n",
    "        default_pads = (int(p) for p in filter(None, set(default_pads.replace(\" \", \"\").split(\",\"))))\n",
    "        ids_to_m2m(cur, default_pads, pads, \"rocket_defaultpad\")\n",
    "\n"
   ]
  },
  {
   "cell_type": "code",
   "execution_count": 356,
   "metadata": {},
   "outputs": [
    {
     "name": "stdout",
     "output_type": "stream",
     "text": [
      "dict_keys(['id', 'name', 'windowstart', 'windowend', 'net', 'wsstamp', 'westamp', 'netstamp', 'isostart', 'isoend', 'isonet', 'status', 'inhold', 'tbdtime', 'vidURLs', 'vidURL', 'infoURLs', 'infoURL', 'holdreason', 'failreason', 'tbddate', 'probability', 'hashtag', 'changed', 'location', 'rocket', 'missions', 'lsp'])\n",
      "{'id': 1829,\n",
      " 'infoURL': None,\n",
      " 'lspId': 161,\n",
      " 'name': 'Atlas LV-3A | Samos 2',\n",
      " 'net': datetime.datetime(1961, 1, 31, 20, 21, 19, tzinfo=tzutc()),\n",
      " 'padId': 99,\n",
      " 'rocketId': 193,\n",
      " 'status': 'SUCCESS',\n",
      " 'windowend': datetime.datetime(1961, 1, 31, 20, 21, 19, tzinfo=tzutc()),\n",
      " 'windowstart': datetime.datetime(1961, 1, 31, 20, 21, 19, tzinfo=tzutc())}\n"
     ]
    },
    {
     "data": {
      "text/plain": [
       "<Table launches (id, name, rocketId, lspId, padId, status, windowstart, windowend, net, infoURL)>"
      ]
     },
     "execution_count": 356,
     "metadata": {},
     "output_type": "execute_result"
    }
   ],
   "source": [
    "_launches = launches_raw[\"launches\"]\n",
    "print(_launches[0].keys()) # TODO add rest of the keys\n",
    "_launches = glom(_launches,\n",
    "    [{\n",
    "        \"id\":  \"id\",\n",
    "        \"name\":\"name\",\n",
    "        'rocketId': \"rocket.id\", \n",
    "        'lspId': \"lsp.id\",\n",
    "        \"padId\": \"location.pads.0.id\",\n",
    "        \"status\": (\"status\", lambda t: status_types[t]),\n",
    "        \"windowstart\": (\"isostart\", parse_dt),\n",
    "        'windowend': (\"isoend\", parse_dt), \n",
    "        \"net\": (\"isonet\", parse_dt),\n",
    "#         'changed': (\"changed\", parse_dt),\n",
    "        'infoURL': \"infoURL\", \n",
    "    }]\n",
    ")\n",
    "pprint(_launches[0])\n",
    "launches.upsert_all(_launches, pk=\"id\",\n",
    "    foreign_keys=[\n",
    "        (\"rocketId\", rockets.name, \"id\"),\n",
    "        (\"lspId\", agencies.name, \"id\"),\n",
    "        (\"padId\", pads.name, \"id\")\n",
    "])"
   ]
  },
  {
   "cell_type": "code",
   "execution_count": null,
   "metadata": {},
   "outputs": [],
   "source": [
    "print(missions_raw[\"missions\"][0].keys())\n",
    "\n",
    "_missions = glom(missions_raw[\"missions\"],\n",
    "    [{\n",
    "        \"id\":  \"id\",\n",
    "        \"name\":\"name\",\n",
    "        \"description\": \"description\",\n",
    "        \"agencies\": \"agencies\",\n",
    "#         'changed': (\"changed\", parse_dt),\n",
    "        \"type\": (\"type\", lambda t: mission_types.get(t, None)),\n",
    "        'infoURL': \"infoURL\", \n",
    "        'wikiURL': \"wikiURL\", \n",
    "    }],\n",
    ")\n",
    "pprint(_missions[0])\n",
    "# pprint(glom(missions_raw[\"missions\"], [\"type\"]))\n",
    "\n",
    "for r in _missions:\n",
    "    a_ids = glom(r.pop(\"agencies\"), [\"id\"], default=[])\n",
    "    cur = missions.upsert(r, pk=\"id\")\n",
    "    if a_ids is not None:\n",
    "        ids_to_m2m(cur, a_ids, agencies, \"mission_agency\")"
   ]
  },
  {
   "cell_type": "code",
   "execution_count": null,
   "metadata": {},
   "outputs": [],
   "source": [
    "# this won't work because some dims are 2D\n",
    "def split_dims(p):\n",
    "    if p[\"dimensions\"] is not None:\n",
    "        x, y, z = (float(d) for d in p[\"dimensions\"].split(\"x\"))\n",
    "    else:\n",
    "        x = y = z = None\n",
    "    del p[\"dimensions\"]\n",
    "    p[\"dimX\"] = x\n",
    "    p[\"dimY\"] = y\n",
    "    p[\"dimZ\"] = z\n",
    "    \n",
    "\n",
    "_payloads = flatten(glom(missions_raw[\"missions\"],\n",
    "    [\"payloads\"],\n",
    "))\n",
    "print(_payloads[0].keys())\n",
    "\n",
    "payload_mission_id = {}\n",
    "for m in (glom(missions_raw[\"missions\"], [{\"missionId\":\"id\", \"payloads\": \"payloads\"}],)):\n",
    "    for p in m[\"payloads\"]:\n",
    "        payload_mission_id[p[\"id\"]] = m[\"missionId\"]\n",
    "    \n",
    "_payloads = glom(_payloads,\n",
    "    [{\n",
    "        \"id\": \"id\",\n",
    "        \"name\": \"name\",\n",
    "        'countryCodes': 'countryCodes',\n",
    "        'weight': ('weight', lambda f: float(f) if f is not None else f),\n",
    "        'dimensions': \"dimensions\",\n",
    "        \"agencies\": \"agencies\",\n",
    "        'description': 'description',\n",
    "        \"total\": \"total\",\n",
    "        \"type\": (\"type\", lambda t: payload_types.get(t, None)), # TODO: WTF is this\n",
    "        \"missionId\": (\"id\", lambda i: payload_mission_id[i]),\n",
    "    }]\n",
    ")\n",
    "# _payloads = [split_dims(p) for p in _payloads]\n",
    "# payloads.upsert_all(_payloads, pk=\"id\",\n",
    "#     foreign_keys=[\n",
    "#         (\"missionId\", missions.name, \"id\"),\n",
    "# ])\n",
    "\n",
    "for r in _payloads:\n",
    "    a_ids = glom(r.pop(\"agencies\"), [\"id\"], default=[])\n",
    "    cur = payloads.upsert(r, pk=\"id\", foreign_keys=[(\"missionId\", missions.name, \"id\"),])\n",
    "    if a_ids is not None:\n",
    "        ids_to_m2m(cur, a_ids, agencies, \"payload_agency\")"
   ]
  },
  {
   "cell_type": "code",
   "execution_count": null,
   "metadata": {},
   "outputs": [],
   "source": [
    "launches_raw[\"launches\"][1000]"
   ]
  },
  {
   "cell_type": "code",
   "execution_count": null,
   "metadata": {},
   "outputs": [],
   "source": []
  },
  {
   "cell_type": "code",
   "execution_count": null,
   "metadata": {},
   "outputs": [],
   "source": []
  },
  {
   "cell_type": "code",
   "execution_count": null,
   "metadata": {},
   "outputs": [],
   "source": []
  }
 ],
 "metadata": {
  "kernelspec": {
   "display_name": "launch-library-dump",
   "language": "python",
   "name": "launch-library-dump"
  },
  "language_info": {
   "codemirror_mode": {
    "name": "ipython",
    "version": 3
   },
   "file_extension": ".py",
   "mimetype": "text/x-python",
   "name": "python",
   "nbconvert_exporter": "python",
   "pygments_lexer": "ipython3",
   "version": "3.8.4"
  }
 },
 "nbformat": 4,
 "nbformat_minor": 4
}
